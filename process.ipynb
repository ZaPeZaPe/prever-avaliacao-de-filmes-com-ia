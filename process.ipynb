{
 "cells": [
  {
   "cell_type": "markdown",
   "metadata": {},
   "source": [
    "#### Importando bibliotecas necessárias"
   ]
  },
  {
   "cell_type": "code",
   "execution_count": 25,
   "metadata": {},
   "outputs": [],
   "source": [
    "import pandas as pd\n",
    "from sklearn.linear_model import LinearRegression\n",
    "from sklearn.tree import DecisionTreeRegressor\n",
    "from sklearn.model_selection import train_test_split\n",
    "from sklearn.metrics import mean_squared_error, accuracy_score, precision_score, f1_score\n",
    "from sklearn.preprocessing import Binarizer"
   ]
  },
  {
   "cell_type": "markdown",
   "metadata": {},
   "source": [
    "#### Lendo dados pré-processados"
   ]
  },
  {
   "cell_type": "code",
   "execution_count": 26,
   "metadata": {},
   "outputs": [],
   "source": [
    "df = pd.read_csv('db_polished/db_final.tsv', delimiter='\\t')"
   ]
  },
  {
   "cell_type": "markdown",
   "metadata": {},
   "source": [
    "#### Filtrando as categorias relevantes"
   ]
  },
  {
   "cell_type": "code",
   "execution_count": 27,
   "metadata": {},
   "outputs": [],
   "source": [
    "categories = ['actor', 'actress', 'writer', 'director']\n",
    "df = df.loc[df['category'].isin(categories)]"
   ]
  },
  {
   "cell_type": "markdown",
   "metadata": {},
   "source": [
    "#### Calculando a medianas das avaliações para cada escritor, diretor e ator"
   ]
  },
  {
   "cell_type": "code",
   "execution_count": 28,
   "metadata": {},
   "outputs": [],
   "source": [
    "writer_avg_rating = df.loc[df['category'] == 'writer'].groupby('primaryName')['averageRating'].median().reset_index()\n",
    "director_avg_rating = df.loc[df['category'] == 'director'].groupby('primaryName')['averageRating'].median().reset_index()\n",
    "actor_avg_rating = df.loc[df['category'].isin(['actor', 'actress'])].groupby('primaryName')['averageRating'].median().reset_index()"
   ]
  },
  {
   "cell_type": "markdown",
   "metadata": {},
   "source": [
    "#### Renomeando colunas para facilitar os merges"
   ]
  },
  {
   "cell_type": "code",
   "execution_count": 29,
   "metadata": {},
   "outputs": [],
   "source": [
    "writer_avg_rating.rename(columns={'averageRating': 'writer_avg'}, inplace=True)\n",
    "director_avg_rating.rename(columns={'averageRating': 'director_avg'}, inplace=True)\n",
    "actor_avg_rating.rename(columns={'averageRating': 'actor_avg'}, inplace=True)"
   ]
  },
  {
   "cell_type": "markdown",
   "metadata": {},
   "source": [
    "#### Mergendo dos dados originais com as médiaiys de avaliações"
   ]
  },
  {
   "cell_type": "code",
   "execution_count": null,
   "metadata": {},
   "outputs": [],
   "source": [
    "movies = df.drop_duplicates(subset=['originalTitle'])\n",
    "movies = movies.merge(writer_avg_rating, on='primaryName', how='left')\n",
    "movies = movies.merge(director_avg_rating, on='primaryName', how='left')\n",
    "movies = movies.merge(actor_avg_rating, on='primaryName', how='left')"
   ]
  },
  {
   "cell_type": "markdown",
   "metadata": {},
   "source": [
    "#### Preenchendo NaNs com 0 para evitar problemas durante o treinamento"
   ]
  },
  {
   "cell_type": "code",
   "execution_count": null,
   "metadata": {},
   "outputs": [],
   "source": [
    "movies['writer_avg'] = movies['writer_avg'].fillna(0)\n",
    "movies['director_avg'] = movies['director_avg'].fillna(0)\n",
    "movies['actor_avg'] = movies['actor_avg'].fillna(0)"
   ]
  },
  {
   "cell_type": "markdown",
   "metadata": {},
   "source": [
    "#### Selecionando as colunas submissas para o modelo  "
   ]
  },
  {
   "cell_type": "code",
   "execution_count": null,
   "metadata": {},
   "outputs": [],
   "source": [
    "X = movies[['writer_avg', 'director_avg', 'actor_avg']]\n",
    "y = movies['averageRating']"
   ]
  },
  {
   "cell_type": "markdown",
   "metadata": {},
   "source": [
    "#### Dividindo os dados em treino e teste, com teste em 20% e treino em 80%"
   ]
  },
  {
   "cell_type": "code",
   "execution_count": 30,
   "metadata": {},
   "outputs": [],
   "source": [
    "X_train, X_test, y_train, y_test = train_test_split(X, y, test_size=0.2, random_state=42)"
   ]
  },
  {
   "cell_type": "markdown",
   "metadata": {},
   "source": [
    "#### Treinando o modelo de Regressão Linear; Realizando a previsão"
   ]
  },
  {
   "cell_type": "code",
   "execution_count": null,
   "metadata": {},
   "outputs": [],
   "source": [
    "model_lr = LinearRegression()\n",
    "model_lr.fit(X_train, y_train)\n",
    "\n",
    "y_pred_lr = model_lr.predict(X_test)"
   ]
  },
  {
   "cell_type": "markdown",
   "metadata": {},
   "source": [
    "#### Treinando o modelo de Árvore de Decisão; Realizando a previsão"
   ]
  },
  {
   "cell_type": "code",
   "execution_count": 32,
   "metadata": {},
   "outputs": [],
   "source": [
    "model_dt = DecisionTreeRegressor(random_state=42)\n",
    "model_dt.fit(X_train, y_train)\n",
    "\n",
    "y_pred_dt = model_dt.predict(X_test)"
   ]
  },
  {
   "cell_type": "markdown",
   "metadata": {},
   "source": [
    "#### Binarização das previsões para calcular métricas de classificação"
   ]
  },
  {
   "cell_type": "code",
   "execution_count": 33,
   "metadata": {},
   "outputs": [],
   "source": [
    "binarizer = Binarizer(threshold=5.0)\n",
    "y_test_bin = binarizer.fit_transform(y_test.values.reshape(-1, 1))\n",
    "y_pred_lr_bin = binarizer.transform(y_pred_lr.reshape(-1, 1))\n",
    "y_pred_dt_bin = binarizer.transform(y_pred_dt.reshape(-1, 1))"
   ]
  },
  {
   "cell_type": "markdown",
   "metadata": {},
   "source": [
    "#### Avaliando os modelos"
   ]
  },
  {
   "cell_type": "code",
   "execution_count": 34,
   "metadata": {},
   "outputs": [
    {
     "name": "stdout",
     "output_type": "stream",
     "text": [
      "Modelo Linear Regression - Mean Squared Error: 1.752959228766583\n",
      "Modelo Decision Tree - Mean Squared Error: 1.130011950246099\n",
      "Modelo Linear Regression - Accuracy: 0.903784585816641\n",
      "Modelo Decision Tree - Accuracy: 0.9204744051264433\n",
      "Modelo Linear Regression - Precision: 0.903784585816641\n",
      "Modelo Decision Tree - Precision: 0.9277228592541301\n",
      "Modelo Linear Regression - F1 Score: 0.9494609763624666\n",
      "Modelo Decision Tree - F1 Score: 0.9574120884395098\n"
     ]
    }
   ],
   "source": [
    "mse_lr = mean_squared_error(y_test, y_pred_lr)\n",
    "mse_dt = mean_squared_error(y_test, y_pred_dt)\n",
    "\n",
    "accuracy_lr = accuracy_score(y_test_bin, y_pred_lr_bin)\n",
    "accuracy_dt = accuracy_score(y_test_bin, y_pred_dt_bin)\n",
    "\n",
    "precision_lr = precision_score(y_test_bin, y_pred_lr_bin)\n",
    "precision_dt = precision_score(y_test_bin, y_pred_dt_bin)\n",
    "\n",
    "f1_lr = f1_score(y_test_bin, y_pred_lr_bin)\n",
    "f1_dt = f1_score(y_test_bin, y_pred_dt_bin)\n",
    "\n",
    "print(f'Modelo Linear Regression - Mean Squared Error: {mse_lr}')\n",
    "print(f'Modelo Decision Tree - Mean Squared Error: {mse_dt}')\n",
    "\n",
    "print(f'Modelo Linear Regression - Accuracy: {accuracy_lr}')\n",
    "print(f'Modelo Decision Tree - Accuracy: {accuracy_dt}')\n",
    "\n",
    "print(f'Modelo Linear Regression - Precision: {precision_lr}')\n",
    "print(f'Modelo Decision Tree - Precision: {precision_dt}')\n",
    "\n",
    "print(f'Modelo Linear Regression - F1 Score: {f1_lr}')\n",
    "print(f'Modelo Decision Tree - F1 Score: {f1_dt}')"
   ]
  },
  {
   "cell_type": "markdown",
   "metadata": {},
   "source": [
    "#### Funções para prever a avaliação de um novo filme"
   ]
  },
  {
   "cell_type": "code",
   "execution_count": null,
   "metadata": {},
   "outputs": [],
   "source": [
    "def get_avg_rating(names, rating_dict):\n",
    "    ratings = [rating_dict[name] for name in names if name in rating_dict]\n",
    "    return sum(ratings) / len(ratings) if ratings else rating_dict.median()\n",
    "\n",
    "def prever_classificacao(writer, directors, actors, model):\n",
    "    writer_avg = get_avg_rating(writer, writer_avg_rating.set_index('primaryName')['writer_avg'])\n",
    "    director_avg = get_avg_rating(directors, director_avg_rating.set_index('primaryName')['director_avg'])\n",
    "    actor_avg = get_avg_rating(actors, actor_avg_rating.set_index('primaryName')['actor_avg'])\n",
    "    previsao = model.predict([[writer_avg, director_avg, actor_avg]])\n",
    "    return previsao[0]"
   ]
  },
  {
   "cell_type": "markdown",
   "metadata": {},
   "source": [
    "#### Exemplo de uso"
   ]
  },
  {
   "cell_type": "code",
   "execution_count": 45,
   "metadata": {},
   "outputs": [
    {
     "name": "stderr",
     "output_type": "stream",
     "text": [
      "c:\\Codes\\ia\\Projeto\\venv\\Lib\\site-packages\\sklearn\\base.py:493: UserWarning: X does not have valid feature names, but LinearRegression was fitted with feature names\n",
      "  warnings.warn(\n"
     ]
    },
    {
     "name": "stdout",
     "output_type": "stream",
     "text": [
      "Previsão de classificação (Regressão Linear): +7.32\n",
      "Previsão de classificação (Árvore de Decisão): +6.79\n"
     ]
    },
    {
     "name": "stderr",
     "output_type": "stream",
     "text": [
      "c:\\Codes\\ia\\Projeto\\venv\\Lib\\site-packages\\sklearn\\base.py:493: UserWarning: X does not have valid feature names, but DecisionTreeRegressor was fitted with feature names\n",
      "  warnings.warn(\n"
     ]
    }
   ],
   "source": [
    "writer = ['Joan Crawford']\n",
    "directors = []\n",
    "actors = []\n",
    "\n",
    "print(f'Previsão de classificação (Regressão Linear): +{prever_classificacao(writer, directors, actors, model_lr):.2f}')\n",
    "print(f'Previsão de classificação (Árvore de Decisão): +{prever_classificacao(writer, directors, actors, model_dt):.2f}')"
   ]
  }
 ],
 "metadata": {
  "kernelspec": {
   "display_name": "venv",
   "language": "python",
   "name": "python3"
  },
  "language_info": {
   "codemirror_mode": {
    "name": "ipython",
    "version": 3
   },
   "file_extension": ".py",
   "mimetype": "text/x-python",
   "name": "python",
   "nbconvert_exporter": "python",
   "pygments_lexer": "ipython3",
   "version": "3.12.3"
  }
 },
 "nbformat": 4,
 "nbformat_minor": 2
}
