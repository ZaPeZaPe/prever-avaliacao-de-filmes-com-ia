{
 "cells": [
  {
   "cell_type": "markdown",
   "metadata": {},
   "source": [
    "#### Importar bibliotecas"
   ]
  },
  {
   "cell_type": "code",
   "execution_count": 22,
   "metadata": {},
   "outputs": [],
   "source": [
    "import pandas as pd"
   ]
  },
  {
   "cell_type": "markdown",
   "metadata": {},
   "source": [
    "#### Load do dataset"
   ]
  },
  {
   "cell_type": "code",
   "execution_count": 23,
   "metadata": {},
   "outputs": [
    {
     "name": "stderr",
     "output_type": "stream",
     "text": [
      "C:\\Users\\prjlu\\AppData\\Local\\Temp\\ipykernel_10264\\3497914478.py:3: DtypeWarning: Columns (4) have mixed types. Specify dtype option on import or set low_memory=False.\n",
      "  ttlbasics = pd.read_csv('db_raw/titlebasics.tsv', delimiter='\\t')\n"
     ]
    }
   ],
   "source": [
    "pplnames = pd.read_csv('db_raw/names.tsv', delimiter='\\t')\n",
    "ttlbasics = pd.read_csv('db_raw/titlebasics.tsv', delimiter='\\t')\n",
    "ttlprincipals = pd.read_csv('db_raw/titleprincipals.tsv', delimiter='\\t')\n",
    "ttlratings = pd.read_csv('db_raw/titleratings.tsv', delimiter='\\t')"
   ]
  },
  {
   "cell_type": "markdown",
   "metadata": {},
   "source": [
    "#### Removendo colunas não desejadas"
   ]
  },
  {
   "cell_type": "code",
   "execution_count": 24,
   "metadata": {},
   "outputs": [],
   "source": [
    "pplnames = pplnames.drop(columns=['birthYear', 'deathYear', 'primaryProfession', 'knownForTitles'])\n",
    "ttlbasics = ttlbasics.drop(columns=['titleType', 'isAdult', 'startYear', 'endYear', 'runtimeMinutes', 'genres'])\n",
    "ttlprincipals = ttlprincipals.drop(columns=['ordering', 'job', 'characters'])\n",
    "ttlratings = ttlratings.drop(columns=['numVotes'])"
   ]
  },
  {
   "cell_type": "markdown",
   "metadata": {},
   "source": [
    "#### Removendo linhas duplicadas caso hajam"
   ]
  },
  {
   "cell_type": "code",
   "execution_count": 25,
   "metadata": {},
   "outputs": [],
   "source": [
    "pplnames = pplnames.drop_duplicates()\n",
    "ttlbasics = ttlbasics.drop_duplicates()\n",
    "ttlprincipals = ttlprincipals.drop_duplicates()\n",
    "ttlratings = ttlratings.drop_duplicates()"
   ]
  },
  {
   "cell_type": "code",
   "execution_count": 26,
   "metadata": {},
   "outputs": [
    {
     "name": "stdout",
     "output_type": "stream",
     "text": [
      "<class 'pandas.core.frame.DataFrame'>\n",
      "RangeIndex: 13544746 entries, 0 to 13544745\n",
      "Data columns (total 2 columns):\n",
      " #   Column       Dtype \n",
      "---  ------       ----- \n",
      " 0   nconst       object\n",
      " 1   primaryName  object\n",
      "dtypes: object(2)\n",
      "memory usage: 206.7+ MB\n"
     ]
    }
   ],
   "source": [
    "pplnames.info()"
   ]
  },
  {
   "cell_type": "code",
   "execution_count": 27,
   "metadata": {},
   "outputs": [
    {
     "name": "stdout",
     "output_type": "stream",
     "text": [
      "<class 'pandas.core.frame.DataFrame'>\n",
      "RangeIndex: 10826336 entries, 0 to 10826335\n",
      "Data columns (total 3 columns):\n",
      " #   Column         Dtype \n",
      "---  ------         ----- \n",
      " 0   tconst         object\n",
      " 1   primaryTitle   object\n",
      " 2   originalTitle  object\n",
      "dtypes: object(3)\n",
      "memory usage: 247.8+ MB\n"
     ]
    }
   ],
   "source": [
    "ttlbasics.info()"
   ]
  },
  {
   "cell_type": "code",
   "execution_count": 28,
   "metadata": {},
   "outputs": [
    {
     "name": "stdout",
     "output_type": "stream",
     "text": [
      "<class 'pandas.core.frame.DataFrame'>\n",
      "Index: 84493637 entries, 0 to 86190337\n",
      "Data columns (total 3 columns):\n",
      " #   Column    Dtype \n",
      "---  ------    ----- \n",
      " 0   tconst    object\n",
      " 1   nconst    object\n",
      " 2   category  object\n",
      "dtypes: object(3)\n",
      "memory usage: 2.5+ GB\n"
     ]
    }
   ],
   "source": [
    "ttlprincipals.info()"
   ]
  },
  {
   "cell_type": "code",
   "execution_count": 29,
   "metadata": {},
   "outputs": [
    {
     "name": "stdout",
     "output_type": "stream",
     "text": [
      "<class 'pandas.core.frame.DataFrame'>\n",
      "RangeIndex: 1443621 entries, 0 to 1443620\n",
      "Data columns (total 2 columns):\n",
      " #   Column         Non-Null Count    Dtype  \n",
      "---  ------         --------------    -----  \n",
      " 0   tconst         1443621 non-null  object \n",
      " 1   averageRating  1443621 non-null  float64\n",
      "dtypes: float64(1), object(1)\n",
      "memory usage: 22.0+ MB\n"
     ]
    }
   ],
   "source": [
    "ttlratings.info()"
   ]
  },
  {
   "cell_type": "markdown",
   "metadata": {},
   "source": [
    "#### Juntando os dados"
   ]
  },
  {
   "cell_type": "code",
   "execution_count": 30,
   "metadata": {},
   "outputs": [],
   "source": [
    "ttlprincipals = ttlprincipals.merge(ttlbasics, on=['tconst'])\n",
    "ttlprincipals = ttlprincipals.merge(ttlratings, on=['tconst'])\n",
    "ttlprincipals = ttlprincipals.merge(pplnames, on=['nconst'])"
   ]
  },
  {
   "cell_type": "code",
   "execution_count": 32,
   "metadata": {},
   "outputs": [
    {
     "name": "stdout",
     "output_type": "stream",
     "text": [
      "<class 'pandas.core.frame.DataFrame'>\n",
      "RangeIndex: 19329066 entries, 0 to 19329065\n",
      "Data columns (total 7 columns):\n",
      " #   Column         Dtype  \n",
      "---  ------         -----  \n",
      " 0   tconst         object \n",
      " 1   nconst         object \n",
      " 2   category       object \n",
      " 3   primaryTitle   object \n",
      " 4   originalTitle  object \n",
      " 5   averageRating  float64\n",
      " 6   primaryName    object \n",
      "dtypes: float64(1), object(6)\n",
      "memory usage: 1.0+ GB\n"
     ]
    }
   ],
   "source": [
    "ttlprincipals.info()"
   ]
  },
  {
   "cell_type": "markdown",
   "metadata": {},
   "source": [
    "#### Exportando os dados para um tsv"
   ]
  },
  {
   "cell_type": "code",
   "execution_count": 31,
   "metadata": {},
   "outputs": [],
   "source": [
    "ttlprincipals.to_csv('db_polished/db_final.tsv', sep='\\t', index=False)"
   ]
  },
  {
   "cell_type": "markdown",
   "metadata": {},
   "source": [
    "#### Deletando variaveis alocadas"
   ]
  },
  {
   "cell_type": "code",
   "execution_count": 33,
   "metadata": {},
   "outputs": [],
   "source": [
    "del pplnames\n",
    "del ttlbasics\n",
    "del ttlprincipals\n",
    "del ttlratings"
   ]
  }
 ],
 "metadata": {
  "kernelspec": {
   "display_name": "venv",
   "language": "python",
   "name": "python3"
  },
  "language_info": {
   "codemirror_mode": {
    "name": "ipython",
    "version": 3
   },
   "file_extension": ".py",
   "mimetype": "text/x-python",
   "name": "python",
   "nbconvert_exporter": "python",
   "pygments_lexer": "ipython3",
   "version": "3.12.3"
  }
 },
 "nbformat": 4,
 "nbformat_minor": 2
}
